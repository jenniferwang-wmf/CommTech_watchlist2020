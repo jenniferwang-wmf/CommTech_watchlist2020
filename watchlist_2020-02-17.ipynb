{
 "cells": [
  {
   "cell_type": "markdown",
   "metadata": {},
   "source": [
    "# Purpose:\n",
    "To understand how many users & what percentage of users watch over 20,000 pages on English & German Wikipedia.[T245852](https://phabricator.wikimedia.org/T245852)\n",
    "\n",
    "\n",
    "# Data timeframe:\n",
    "User watchlist data at the time point of 2020-02-18 on enwiki and dewiki. <br />\n",
    "Rerun on 2020-02-21 \n",
    "\n",
    "# Summary:\n",
    "- How many users watch over 20,000 pages on English Wikipedia?<br />\n",
    "    __345__\n",
    "- What percentage of users watch over 20,000 pages on English Wikipedia?<br />\n",
    "    __0.0017%__\n",
    "- How many users watch over 20,000 pages on German Wikipedia?<br />\n",
    "    __90__\n",
    "- What percentage of users watch over 20,000 pages on German Wikipedia?<br />\n",
    "    __0.005%__\n",
    "- Among the users who watch over 20,000 pages, some of top watchlist ids are bot user."
   ]
  },
  {
   "cell_type": "code",
   "execution_count": 1,
   "metadata": {},
   "outputs": [
    {
     "name": "stderr",
     "output_type": "stream",
     "text": [
      "You are using wmfdata 0.1.0 (latest).\n",
      "\n",
      "You can find the source for `wmfdata` at https://github.com/neilpquinn/wmfdata\n"
     ]
    }
   ],
   "source": [
    "import pandas as pd\n",
    "from wmfdata import mariadb"
   ]
  },
  {
   "cell_type": "code",
   "execution_count": 2,
   "metadata": {},
   "outputs": [
    {
     "data": {
      "text/html": [
       "\n",
       "    <form action=\"javascript:code_toggle()\">\n",
       "        <input id=\"code_toggle\" type=\"submit\" value=\"Hide code\" style=\"font-size: 1.4em\">\n",
       "    </form>\n",
       "    \n",
       "    <script>\n",
       "    code_shown = true; \n",
       "\n",
       "    function code_toggle() {\n",
       "        if (code_shown) {\n",
       "            $('div.input, div.output_prompt').hide();\n",
       "            $('#code_toggle').attr(\"value\", \"Show code\");\n",
       "\n",
       "        } else {\n",
       "            $('div.input, div.output_pr').show();\n",
       "            $('#code_toggle').attr(\"value\", \"Hide code\");\n",
       "        }\n",
       "\n",
       "        code_shown = !code_shown\n",
       "    }\n",
       "\n",
       "    $(document).ready(code_toggle);\n",
       "    </script>\n",
       "    "
      ],
      "text/plain": [
       "<IPython.core.display.HTML object>"
      ]
     },
     "metadata": {},
     "output_type": "display_data"
    }
   ],
   "source": [
    "import wmfdata\n",
    "wmfdata.utils.insert_code_toggle()"
   ]
  },
  {
   "cell_type": "markdown",
   "metadata": {},
   "source": [
    "# English Wikipedia"
   ]
  },
  {
   "cell_type": "code",
   "execution_count": 3,
   "metadata": {},
   "outputs": [],
   "source": [
    "watchlist_count_query = '''\n",
    "\n",
    "SELECT wl_user, COUNT(DISTINCT wl_title) AS watchlist_count, \n",
    "(CASE WHEN ug.ug_group = 'bot' THEN 1 ELSE 0 END) AS bot \n",
    "FROM watchlist AS wl LEFT JOIN user_groups AS ug ON ug.ug_user=wl.wl_user  \n",
    "GROUP BY wl_user \n",
    "ORDER BY watchlist_count DESC\n",
    "\n",
    "'''"
   ]
  },
  {
   "cell_type": "code",
   "execution_count": 4,
   "metadata": {},
   "outputs": [],
   "source": [
    "df_watchlist_count_enwiki=mariadb.run(watchlist_count_query, 'enwiki')"
   ]
  },
  {
   "cell_type": "code",
   "execution_count": 6,
   "metadata": {},
   "outputs": [
    {
     "data": {
      "text/html": [
       "<div>\n",
       "<style scoped>\n",
       "    .dataframe tbody tr th:only-of-type {\n",
       "        vertical-align: middle;\n",
       "    }\n",
       "\n",
       "    .dataframe tbody tr th {\n",
       "        vertical-align: top;\n",
       "    }\n",
       "\n",
       "    .dataframe thead th {\n",
       "        text-align: right;\n",
       "    }\n",
       "</style>\n",
       "<table border=\"1\" class=\"dataframe\">\n",
       "  <thead>\n",
       "    <tr style=\"text-align: right;\">\n",
       "      <th></th>\n",
       "      <th>wl_user</th>\n",
       "      <th>watchlist_count</th>\n",
       "      <th>bot</th>\n",
       "    </tr>\n",
       "  </thead>\n",
       "  <tbody>\n",
       "    <tr>\n",
       "      <th>0</th>\n",
       "      <td>13286072</td>\n",
       "      <td>1744544</td>\n",
       "      <td>1</td>\n",
       "    </tr>\n",
       "    <tr>\n",
       "      <th>1</th>\n",
       "      <td>14218903</td>\n",
       "      <td>579036</td>\n",
       "      <td>0</td>\n",
       "    </tr>\n",
       "    <tr>\n",
       "      <th>2</th>\n",
       "      <td>433328</td>\n",
       "      <td>517362</td>\n",
       "      <td>0</td>\n",
       "    </tr>\n",
       "    <tr>\n",
       "      <th>3</th>\n",
       "      <td>4936590</td>\n",
       "      <td>292103</td>\n",
       "      <td>1</td>\n",
       "    </tr>\n",
       "    <tr>\n",
       "      <th>4</th>\n",
       "      <td>18779361</td>\n",
       "      <td>224841</td>\n",
       "      <td>0</td>\n",
       "    </tr>\n",
       "    <tr>\n",
       "      <th>5</th>\n",
       "      <td>28207637</td>\n",
       "      <td>218319</td>\n",
       "      <td>0</td>\n",
       "    </tr>\n",
       "    <tr>\n",
       "      <th>6</th>\n",
       "      <td>4048622</td>\n",
       "      <td>213921</td>\n",
       "      <td>1</td>\n",
       "    </tr>\n",
       "    <tr>\n",
       "      <th>7</th>\n",
       "      <td>506179</td>\n",
       "      <td>208479</td>\n",
       "      <td>0</td>\n",
       "    </tr>\n",
       "    <tr>\n",
       "      <th>8</th>\n",
       "      <td>10996774</td>\n",
       "      <td>199092</td>\n",
       "      <td>1</td>\n",
       "    </tr>\n",
       "    <tr>\n",
       "      <th>9</th>\n",
       "      <td>149211</td>\n",
       "      <td>187746</td>\n",
       "      <td>0</td>\n",
       "    </tr>\n",
       "  </tbody>\n",
       "</table>\n",
       "</div>"
      ],
      "text/plain": [
       "    wl_user  watchlist_count  bot\n",
       "0  13286072          1744544    1\n",
       "1  14218903           579036    0\n",
       "2    433328           517362    0\n",
       "3   4936590           292103    1\n",
       "4  18779361           224841    0\n",
       "5  28207637           218319    0\n",
       "6   4048622           213921    1\n",
       "7    506179           208479    0\n",
       "8  10996774           199092    1\n",
       "9    149211           187746    0"
      ]
     },
     "execution_count": 6,
     "metadata": {},
     "output_type": "execute_result"
    }
   ],
   "source": [
    "df_watchlist_count_enwiki.head(10)"
   ]
  },
  {
   "cell_type": "code",
   "execution_count": 7,
   "metadata": {
    "scrolled": true
   },
   "outputs": [
    {
     "data": {
      "text/html": [
       "<div>\n",
       "<style scoped>\n",
       "    .dataframe tbody tr th:only-of-type {\n",
       "        vertical-align: middle;\n",
       "    }\n",
       "\n",
       "    .dataframe tbody tr th {\n",
       "        vertical-align: top;\n",
       "    }\n",
       "\n",
       "    .dataframe thead th {\n",
       "        text-align: right;\n",
       "    }\n",
       "</style>\n",
       "<table border=\"1\" class=\"dataframe\">\n",
       "  <thead>\n",
       "    <tr style=\"text-align: right;\">\n",
       "      <th></th>\n",
       "      <th>wl_user</th>\n",
       "      <th>watchlist_count</th>\n",
       "      <th>bot</th>\n",
       "    </tr>\n",
       "  </thead>\n",
       "  <tbody>\n",
       "    <tr>\n",
       "      <th>count</th>\n",
       "      <td>3.450000e+02</td>\n",
       "      <td>3.450000e+02</td>\n",
       "      <td>345.000000</td>\n",
       "    </tr>\n",
       "    <tr>\n",
       "      <th>mean</th>\n",
       "      <td>9.076888e+06</td>\n",
       "      <td>5.506846e+04</td>\n",
       "      <td>0.055072</td>\n",
       "    </tr>\n",
       "    <tr>\n",
       "      <th>std</th>\n",
       "      <td>9.904756e+06</td>\n",
       "      <td>1.063944e+05</td>\n",
       "      <td>0.228453</td>\n",
       "    </tr>\n",
       "    <tr>\n",
       "      <th>min</th>\n",
       "      <td>7.600000e+01</td>\n",
       "      <td>2.010900e+04</td>\n",
       "      <td>0.000000</td>\n",
       "    </tr>\n",
       "    <tr>\n",
       "      <th>25%</th>\n",
       "      <td>5.450270e+05</td>\n",
       "      <td>2.432500e+04</td>\n",
       "      <td>0.000000</td>\n",
       "    </tr>\n",
       "    <tr>\n",
       "      <th>50%</th>\n",
       "      <td>5.724179e+06</td>\n",
       "      <td>3.318700e+04</td>\n",
       "      <td>0.000000</td>\n",
       "    </tr>\n",
       "    <tr>\n",
       "      <th>75%</th>\n",
       "      <td>1.565014e+07</td>\n",
       "      <td>5.275000e+04</td>\n",
       "      <td>0.000000</td>\n",
       "    </tr>\n",
       "    <tr>\n",
       "      <th>max</th>\n",
       "      <td>3.787761e+07</td>\n",
       "      <td>1.744544e+06</td>\n",
       "      <td>1.000000</td>\n",
       "    </tr>\n",
       "  </tbody>\n",
       "</table>\n",
       "</div>"
      ],
      "text/plain": [
       "            wl_user  watchlist_count         bot\n",
       "count  3.450000e+02     3.450000e+02  345.000000\n",
       "mean   9.076888e+06     5.506846e+04    0.055072\n",
       "std    9.904756e+06     1.063944e+05    0.228453\n",
       "min    7.600000e+01     2.010900e+04    0.000000\n",
       "25%    5.450270e+05     2.432500e+04    0.000000\n",
       "50%    5.724179e+06     3.318700e+04    0.000000\n",
       "75%    1.565014e+07     5.275000e+04    0.000000\n",
       "max    3.787761e+07     1.744544e+06    1.000000"
      ]
     },
     "execution_count": 7,
     "metadata": {},
     "output_type": "execute_result"
    }
   ],
   "source": [
    "df_watchlist_count_enwiki[df_watchlist_count_enwiki['watchlist_count'] >= 20000].describe()"
   ]
  },
  {
   "cell_type": "code",
   "execution_count": 8,
   "metadata": {},
   "outputs": [
    {
     "data": {
      "text/plain": [
       "wl_user            20126955\n",
       "watchlist_count    20126955\n",
       "bot                20126955\n",
       "dtype: int64"
      ]
     },
     "execution_count": 8,
     "metadata": {},
     "output_type": "execute_result"
    }
   ],
   "source": [
    "df_watchlist_count_enwiki.count()"
   ]
  },
  {
   "cell_type": "markdown",
   "metadata": {},
   "source": [
    "### How many users watch over 20,000 pages on English Wikipedia?"
   ]
  },
  {
   "cell_type": "code",
   "execution_count": 9,
   "metadata": {},
   "outputs": [
    {
     "data": {
      "text/plain": [
       "wl_user            345\n",
       "watchlist_count    345\n",
       "bot                345\n",
       "dtype: int64"
      ]
     },
     "execution_count": 9,
     "metadata": {},
     "output_type": "execute_result"
    }
   ],
   "source": [
    "df_watchlist_count_enwiki[df_watchlist_count_enwiki['watchlist_count'] >= 20000].count()"
   ]
  },
  {
   "cell_type": "markdown",
   "metadata": {},
   "source": [
    "### What percentage of users watch over 20,000 pages on English Wikipedia?"
   ]
  },
  {
   "cell_type": "code",
   "execution_count": 10,
   "metadata": {},
   "outputs": [
    {
     "data": {
      "text/plain": [
       "wl_user            0.000017\n",
       "watchlist_count    0.000017\n",
       "bot                0.000017\n",
       "dtype: float64"
      ]
     },
     "execution_count": 10,
     "metadata": {},
     "output_type": "execute_result"
    }
   ],
   "source": [
    "df_watchlist_count_enwiki[df_watchlist_count_enwiki['watchlist_count'] >= 20000].count()/df_watchlist_count_enwiki.count()"
   ]
  },
  {
   "cell_type": "code",
   "execution_count": 11,
   "metadata": {},
   "outputs": [],
   "source": [
    "%matplotlib inline\n",
    "import matplotlib.pyplot as plt\n",
    "\n",
    "import seaborn as sns"
   ]
  },
  {
   "cell_type": "code",
   "execution_count": 26,
   "metadata": {
    "scrolled": true
   },
   "outputs": [
    {
     "data": {
      "image/png": "[encoded data removed]",
      "text/plain": [
       "<Figure size 1296x432 with 1 Axes>"
      ]
     },
     "metadata": {},
     "output_type": "display_data"
    }
   ],
   "source": [
    "plt.figure(figsize=(18, 6))\n",
    "plt.xlim(20000,2000000)\n",
    "plt.hist(df_watchlist_count_enwiki[df_watchlist_count_enwiki['watchlist_count']>= 20000]['watchlist_count'], bins=50, histtype='bar')\n",
    "plt.title('Distribution of Users With Watchlist > 20,000',fontweight=\"bold\",fontsize = 16)\n",
    "plt.savefig(\"distribution_enwiki_20000.png\")\n",
    "plt.ylabel('# of Users',fontsize = 16)\n",
    "plt.xlabel('Watchlist Count',fontsize = 16)\n",
    "plt.show()"
   ]
  },
  {
   "cell_type": "markdown",
   "metadata": {},
   "source": [
    "### Any whatchlist behavior difference between bot and non-bot user?"
   ]
  },
  {
   "cell_type": "code",
   "execution_count": 13,
   "metadata": {
    "scrolled": true
   },
   "outputs": [
    {
     "data": {
      "text/html": [
       "<div>\n",
       "<style scoped>\n",
       "    .dataframe tbody tr th:only-of-type {\n",
       "        vertical-align: middle;\n",
       "    }\n",
       "\n",
       "    .dataframe tbody tr th {\n",
       "        vertical-align: top;\n",
       "    }\n",
       "\n",
       "    .dataframe thead th {\n",
       "        text-align: right;\n",
       "    }\n",
       "</style>\n",
       "<table border=\"1\" class=\"dataframe\">\n",
       "  <thead>\n",
       "    <tr style=\"text-align: right;\">\n",
       "      <th></th>\n",
       "      <th>wl_user</th>\n",
       "      <th>watchlist_count</th>\n",
       "      <th>bot</th>\n",
       "    </tr>\n",
       "  </thead>\n",
       "  <tbody>\n",
       "    <tr>\n",
       "      <th>count</th>\n",
       "      <td>2.420000e+02</td>\n",
       "      <td>2.420000e+02</td>\n",
       "      <td>242.0</td>\n",
       "    </tr>\n",
       "    <tr>\n",
       "      <th>mean</th>\n",
       "      <td>1.726334e+07</td>\n",
       "      <td>1.635292e+04</td>\n",
       "      <td>1.0</td>\n",
       "    </tr>\n",
       "    <tr>\n",
       "      <th>std</th>\n",
       "      <td>1.083950e+07</td>\n",
       "      <td>1.168744e+05</td>\n",
       "      <td>0.0</td>\n",
       "    </tr>\n",
       "    <tr>\n",
       "      <th>min</th>\n",
       "      <td>8.292800e+04</td>\n",
       "      <td>1.000000e+00</td>\n",
       "      <td>1.0</td>\n",
       "    </tr>\n",
       "    <tr>\n",
       "      <th>25%</th>\n",
       "      <td>8.671527e+06</td>\n",
       "      <td>2.000000e+00</td>\n",
       "      <td>1.0</td>\n",
       "    </tr>\n",
       "    <tr>\n",
       "      <th>50%</th>\n",
       "      <td>1.627531e+07</td>\n",
       "      <td>1.100000e+01</td>\n",
       "      <td>1.0</td>\n",
       "    </tr>\n",
       "    <tr>\n",
       "      <th>75%</th>\n",
       "      <td>2.688366e+07</td>\n",
       "      <td>4.305000e+02</td>\n",
       "      <td>1.0</td>\n",
       "    </tr>\n",
       "    <tr>\n",
       "      <th>max</th>\n",
       "      <td>3.820076e+07</td>\n",
       "      <td>1.744544e+06</td>\n",
       "      <td>1.0</td>\n",
       "    </tr>\n",
       "  </tbody>\n",
       "</table>\n",
       "</div>"
      ],
      "text/plain": [
       "            wl_user  watchlist_count    bot\n",
       "count  2.420000e+02     2.420000e+02  242.0\n",
       "mean   1.726334e+07     1.635292e+04    1.0\n",
       "std    1.083950e+07     1.168744e+05    0.0\n",
       "min    8.292800e+04     1.000000e+00    1.0\n",
       "25%    8.671527e+06     2.000000e+00    1.0\n",
       "50%    1.627531e+07     1.100000e+01    1.0\n",
       "75%    2.688366e+07     4.305000e+02    1.0\n",
       "max    3.820076e+07     1.744544e+06    1.0"
      ]
     },
     "execution_count": 13,
     "metadata": {},
     "output_type": "execute_result"
    }
   ],
   "source": [
    "df_watchlist_count_enwiki[df_watchlist_count_enwiki['bot'] == 1].describe()"
   ]
  },
  {
   "cell_type": "code",
   "execution_count": 14,
   "metadata": {
    "scrolled": true
   },
   "outputs": [
    {
     "data": {
      "text/html": [
       "<div>\n",
       "<style scoped>\n",
       "    .dataframe tbody tr th:only-of-type {\n",
       "        vertical-align: middle;\n",
       "    }\n",
       "\n",
       "    .dataframe tbody tr th {\n",
       "        vertical-align: top;\n",
       "    }\n",
       "\n",
       "    .dataframe thead th {\n",
       "        text-align: right;\n",
       "    }\n",
       "</style>\n",
       "<table border=\"1\" class=\"dataframe\">\n",
       "  <thead>\n",
       "    <tr style=\"text-align: right;\">\n",
       "      <th></th>\n",
       "      <th>wl_user</th>\n",
       "      <th>watchlist_count</th>\n",
       "      <th>bot</th>\n",
       "    </tr>\n",
       "  </thead>\n",
       "  <tbody>\n",
       "    <tr>\n",
       "      <th>count</th>\n",
       "      <td>2.012671e+07</td>\n",
       "      <td>2.012671e+07</td>\n",
       "      <td>20126713.0</td>\n",
       "    </tr>\n",
       "    <tr>\n",
       "      <th>mean</th>\n",
       "      <td>2.597954e+07</td>\n",
       "      <td>5.116960e+00</td>\n",
       "      <td>0.0</td>\n",
       "    </tr>\n",
       "    <tr>\n",
       "      <th>std</th>\n",
       "      <td>9.877188e+06</td>\n",
       "      <td>3.031972e+02</td>\n",
       "      <td>0.0</td>\n",
       "    </tr>\n",
       "    <tr>\n",
       "      <th>min</th>\n",
       "      <td>0.000000e+00</td>\n",
       "      <td>1.000000e+00</td>\n",
       "      <td>0.0</td>\n",
       "    </tr>\n",
       "    <tr>\n",
       "      <th>25%</th>\n",
       "      <td>2.187041e+07</td>\n",
       "      <td>1.000000e+00</td>\n",
       "      <td>0.0</td>\n",
       "    </tr>\n",
       "    <tr>\n",
       "      <th>50%</th>\n",
       "      <td>2.834616e+07</td>\n",
       "      <td>1.000000e+00</td>\n",
       "      <td>0.0</td>\n",
       "    </tr>\n",
       "    <tr>\n",
       "      <th>75%</th>\n",
       "      <td>3.348539e+07</td>\n",
       "      <td>1.000000e+00</td>\n",
       "      <td>0.0</td>\n",
       "    </tr>\n",
       "    <tr>\n",
       "      <th>max</th>\n",
       "      <td>3.860521e+07</td>\n",
       "      <td>5.790360e+05</td>\n",
       "      <td>0.0</td>\n",
       "    </tr>\n",
       "  </tbody>\n",
       "</table>\n",
       "</div>"
      ],
      "text/plain": [
       "            wl_user  watchlist_count         bot\n",
       "count  2.012671e+07     2.012671e+07  20126713.0\n",
       "mean   2.597954e+07     5.116960e+00         0.0\n",
       "std    9.877188e+06     3.031972e+02         0.0\n",
       "min    0.000000e+00     1.000000e+00         0.0\n",
       "25%    2.187041e+07     1.000000e+00         0.0\n",
       "50%    2.834616e+07     1.000000e+00         0.0\n",
       "75%    3.348539e+07     1.000000e+00         0.0\n",
       "max    3.860521e+07     5.790360e+05         0.0"
      ]
     },
     "execution_count": 14,
     "metadata": {},
     "output_type": "execute_result"
    }
   ],
   "source": [
    "df_watchlist_count_enwiki[df_watchlist_count_enwiki['bot'] == 0].describe()"
   ]
  },
  {
   "cell_type": "code",
   "execution_count": 18,
   "metadata": {},
   "outputs": [
    {
     "data": {
      "image/png": "[encoded data removed]",
      "text/plain": [
       "<Figure size 1296x432 with 1 Axes>"
      ]
     },
     "metadata": {},
     "output_type": "display_data"
    }
   ],
   "source": [
    "plt.figure(figsize=(18, 6))\n",
    "plt.xlim(20000,2000000)\n",
    "plt.hist(df_watchlist_count_enwiki[(df_watchlist_count_enwiki['bot'] == 0)&(df_watchlist_count_enwiki['watchlist_count']>= 20000)]['watchlist_count'], bins=50, histtype='bar', label='bot=0',alpha=0.5)\n",
    "plt.hist(df_watchlist_count_enwiki[(df_watchlist_count_enwiki['bot'] == 1)&(df_watchlist_count_enwiki['watchlist_count']>= 20000)]['watchlist_count'], bins=50, histtype='bar', label='bot=1',alpha=0.5)\n",
    "plt.title('Distribution of Users With Watchlist > 20,000',fontweight=\"bold\",fontsize = 16)\n",
    "plt.ylabel('# of Users',fontsize = 16)\n",
    "plt.xlabel('Watchlist Count',fontsize = 16)\n",
    "plt.savefig(\"distribution_enwiki_20000_1.png\")\n",
    "plt.legend()\n",
    "plt.show()"
   ]
  },
  {
   "cell_type": "markdown",
   "metadata": {},
   "source": [
    "# German Wikipedia"
   ]
  },
  {
   "cell_type": "code",
   "execution_count": 20,
   "metadata": {},
   "outputs": [
    {
     "data": {
      "text/html": [
       "<div>\n",
       "<style scoped>\n",
       "    .dataframe tbody tr th:only-of-type {\n",
       "        vertical-align: middle;\n",
       "    }\n",
       "\n",
       "    .dataframe tbody tr th {\n",
       "        vertical-align: top;\n",
       "    }\n",
       "\n",
       "    .dataframe thead th {\n",
       "        text-align: right;\n",
       "    }\n",
       "</style>\n",
       "<table border=\"1\" class=\"dataframe\">\n",
       "  <thead>\n",
       "    <tr style=\"text-align: right;\">\n",
       "      <th></th>\n",
       "      <th>wl_user</th>\n",
       "      <th>watchlist_count</th>\n",
       "      <th>bot</th>\n",
       "    </tr>\n",
       "  </thead>\n",
       "  <tbody>\n",
       "    <tr>\n",
       "      <th>0</th>\n",
       "      <td>594711</td>\n",
       "      <td>291251</td>\n",
       "      <td>0</td>\n",
       "    </tr>\n",
       "    <tr>\n",
       "      <th>1</th>\n",
       "      <td>1648354</td>\n",
       "      <td>194544</td>\n",
       "      <td>0</td>\n",
       "    </tr>\n",
       "    <tr>\n",
       "      <th>2</th>\n",
       "      <td>75157</td>\n",
       "      <td>145463</td>\n",
       "      <td>0</td>\n",
       "    </tr>\n",
       "    <tr>\n",
       "      <th>3</th>\n",
       "      <td>766512</td>\n",
       "      <td>137298</td>\n",
       "      <td>1</td>\n",
       "    </tr>\n",
       "    <tr>\n",
       "      <th>4</th>\n",
       "      <td>417536</td>\n",
       "      <td>119098</td>\n",
       "      <td>0</td>\n",
       "    </tr>\n",
       "    <tr>\n",
       "      <th>5</th>\n",
       "      <td>1523946</td>\n",
       "      <td>103382</td>\n",
       "      <td>1</td>\n",
       "    </tr>\n",
       "    <tr>\n",
       "      <th>6</th>\n",
       "      <td>29738</td>\n",
       "      <td>94419</td>\n",
       "      <td>0</td>\n",
       "    </tr>\n",
       "    <tr>\n",
       "      <th>7</th>\n",
       "      <td>560031</td>\n",
       "      <td>91647</td>\n",
       "      <td>0</td>\n",
       "    </tr>\n",
       "    <tr>\n",
       "      <th>8</th>\n",
       "      <td>45933</td>\n",
       "      <td>89544</td>\n",
       "      <td>0</td>\n",
       "    </tr>\n",
       "    <tr>\n",
       "      <th>9</th>\n",
       "      <td>2262393</td>\n",
       "      <td>87958</td>\n",
       "      <td>0</td>\n",
       "    </tr>\n",
       "  </tbody>\n",
       "</table>\n",
       "</div>"
      ],
      "text/plain": [
       "   wl_user  watchlist_count  bot\n",
       "0   594711           291251    0\n",
       "1  1648354           194544    0\n",
       "2    75157           145463    0\n",
       "3   766512           137298    1\n",
       "4   417536           119098    0\n",
       "5  1523946           103382    1\n",
       "6    29738            94419    0\n",
       "7   560031            91647    0\n",
       "8    45933            89544    0\n",
       "9  2262393            87958    0"
      ]
     },
     "execution_count": 20,
     "metadata": {},
     "output_type": "execute_result"
    }
   ],
   "source": [
    "df_watchlist_count_dewiki=mariadb.run(watchlist_count_query, 'dewiki')\n",
    "df_watchlist_count_dewiki.head(10)"
   ]
  },
  {
   "cell_type": "code",
   "execution_count": 21,
   "metadata": {},
   "outputs": [
    {
     "data": {
      "text/html": [
       "<div>\n",
       "<style scoped>\n",
       "    .dataframe tbody tr th:only-of-type {\n",
       "        vertical-align: middle;\n",
       "    }\n",
       "\n",
       "    .dataframe tbody tr th {\n",
       "        vertical-align: top;\n",
       "    }\n",
       "\n",
       "    .dataframe thead th {\n",
       "        text-align: right;\n",
       "    }\n",
       "</style>\n",
       "<table border=\"1\" class=\"dataframe\">\n",
       "  <thead>\n",
       "    <tr style=\"text-align: right;\">\n",
       "      <th></th>\n",
       "      <th>wl_user</th>\n",
       "      <th>watchlist_count</th>\n",
       "      <th>bot</th>\n",
       "    </tr>\n",
       "  </thead>\n",
       "  <tbody>\n",
       "    <tr>\n",
       "      <th>count</th>\n",
       "      <td>1.816243e+06</td>\n",
       "      <td>1.816243e+06</td>\n",
       "      <td>1.816243e+06</td>\n",
       "    </tr>\n",
       "    <tr>\n",
       "      <th>mean</th>\n",
       "      <td>2.215634e+06</td>\n",
       "      <td>1.217806e+01</td>\n",
       "      <td>5.726106e-05</td>\n",
       "    </tr>\n",
       "    <tr>\n",
       "      <th>std</th>\n",
       "      <td>9.514879e+05</td>\n",
       "      <td>4.713393e+02</td>\n",
       "      <td>7.566889e-03</td>\n",
       "    </tr>\n",
       "    <tr>\n",
       "      <th>min</th>\n",
       "      <td>0.000000e+00</td>\n",
       "      <td>1.000000e+00</td>\n",
       "      <td>0.000000e+00</td>\n",
       "    </tr>\n",
       "    <tr>\n",
       "      <th>25%</th>\n",
       "      <td>1.811256e+06</td>\n",
       "      <td>1.000000e+00</td>\n",
       "      <td>0.000000e+00</td>\n",
       "    </tr>\n",
       "    <tr>\n",
       "      <th>50%</th>\n",
       "      <td>2.493280e+06</td>\n",
       "      <td>1.000000e+00</td>\n",
       "      <td>0.000000e+00</td>\n",
       "    </tr>\n",
       "    <tr>\n",
       "      <th>75%</th>\n",
       "      <td>2.951888e+06</td>\n",
       "      <td>1.000000e+00</td>\n",
       "      <td>0.000000e+00</td>\n",
       "    </tr>\n",
       "    <tr>\n",
       "      <th>max</th>\n",
       "      <td>3.415785e+06</td>\n",
       "      <td>2.912510e+05</td>\n",
       "      <td>1.000000e+00</td>\n",
       "    </tr>\n",
       "  </tbody>\n",
       "</table>\n",
       "</div>"
      ],
      "text/plain": [
       "            wl_user  watchlist_count           bot\n",
       "count  1.816243e+06     1.816243e+06  1.816243e+06\n",
       "mean   2.215634e+06     1.217806e+01  5.726106e-05\n",
       "std    9.514879e+05     4.713393e+02  7.566889e-03\n",
       "min    0.000000e+00     1.000000e+00  0.000000e+00\n",
       "25%    1.811256e+06     1.000000e+00  0.000000e+00\n",
       "50%    2.493280e+06     1.000000e+00  0.000000e+00\n",
       "75%    2.951888e+06     1.000000e+00  0.000000e+00\n",
       "max    3.415785e+06     2.912510e+05  1.000000e+00"
      ]
     },
     "execution_count": 21,
     "metadata": {},
     "output_type": "execute_result"
    }
   ],
   "source": [
    "df_watchlist_count_dewiki.describe()"
   ]
  },
  {
   "cell_type": "markdown",
   "metadata": {},
   "source": [
    "### How many users watch over 20,000 pages on German Wikipedia?\n"
   ]
  },
  {
   "cell_type": "code",
   "execution_count": 22,
   "metadata": {
    "scrolled": true
   },
   "outputs": [
    {
     "data": {
      "text/plain": [
       "wl_user            90\n",
       "watchlist_count    90\n",
       "bot                90\n",
       "dtype: int64"
      ]
     },
     "execution_count": 22,
     "metadata": {},
     "output_type": "execute_result"
    }
   ],
   "source": [
    "df_watchlist_count_dewiki[df_watchlist_count_dewiki['watchlist_count']>=20000].count(0)"
   ]
  },
  {
   "cell_type": "code",
   "execution_count": 23,
   "metadata": {},
   "outputs": [
    {
     "data": {
      "text/plain": [
       "wl_user            1816243\n",
       "watchlist_count    1816243\n",
       "bot                1816243\n",
       "dtype: int64"
      ]
     },
     "execution_count": 23,
     "metadata": {},
     "output_type": "execute_result"
    }
   ],
   "source": [
    "df_watchlist_count_dewiki.count(0)"
   ]
  },
  {
   "cell_type": "markdown",
   "metadata": {},
   "source": [
    "### What percentage of users watch over 20,000 pages on German Wikipedia?\n"
   ]
  },
  {
   "cell_type": "code",
   "execution_count": 24,
   "metadata": {},
   "outputs": [
    {
     "data": {
      "text/plain": [
       "wl_user            0.00005\n",
       "watchlist_count    0.00005\n",
       "bot                0.00005\n",
       "dtype: float64"
      ]
     },
     "execution_count": 24,
     "metadata": {},
     "output_type": "execute_result"
    }
   ],
   "source": [
    "df_watchlist_count_dewiki[df_watchlist_count_dewiki['watchlist_count']>=20000].count(0)/df_watchlist_count_dewiki.count(0)"
   ]
  },
  {
   "cell_type": "code",
   "execution_count": 27,
   "metadata": {},
   "outputs": [
    {
     "data": {
      "image/png": "[encoded data removed]",
      "text/plain": [
       "<Figure size 1296x432 with 1 Axes>"
      ]
     },
     "metadata": {},
     "output_type": "display_data"
    }
   ],
   "source": [
    "plt.figure(figsize=(18, 6))\n",
    "plt.xlim(20000,300000)\n",
    "plt.hist(df_watchlist_count_dewiki[df_watchlist_count_dewiki['watchlist_count']>= 20000]['watchlist_count'], bins=50, histtype='bar')\n",
    "plt.title('Distribution of Users With Watchlist > 20,000',fontweight=\"bold\",fontsize = 16)\n",
    "plt.savefig(\"distribution_dewiki_20000.png\")\n",
    "plt.ylabel('# of Users',fontsize = 16)\n",
    "plt.xlabel('Watchlist Count',fontsize = 16)\n",
    "plt.show()"
   ]
  },
  {
   "cell_type": "markdown",
   "metadata": {},
   "source": [
    "### Any whatchlist behavior difference between bot and non-bot user?"
   ]
  },
  {
   "cell_type": "code",
   "execution_count": 28,
   "metadata": {},
   "outputs": [
    {
     "data": {
      "text/html": [
       "<div>\n",
       "<style scoped>\n",
       "    .dataframe tbody tr th:only-of-type {\n",
       "        vertical-align: middle;\n",
       "    }\n",
       "\n",
       "    .dataframe tbody tr th {\n",
       "        vertical-align: top;\n",
       "    }\n",
       "\n",
       "    .dataframe thead th {\n",
       "        text-align: right;\n",
       "    }\n",
       "</style>\n",
       "<table border=\"1\" class=\"dataframe\">\n",
       "  <thead>\n",
       "    <tr style=\"text-align: right;\">\n",
       "      <th></th>\n",
       "      <th>wl_user</th>\n",
       "      <th>watchlist_count</th>\n",
       "      <th>bot</th>\n",
       "    </tr>\n",
       "  </thead>\n",
       "  <tbody>\n",
       "    <tr>\n",
       "      <th>count</th>\n",
       "      <td>1.040000e+02</td>\n",
       "      <td>104.000000</td>\n",
       "      <td>104.0</td>\n",
       "    </tr>\n",
       "    <tr>\n",
       "      <th>mean</th>\n",
       "      <td>7.320282e+05</td>\n",
       "      <td>2807.865385</td>\n",
       "      <td>1.0</td>\n",
       "    </tr>\n",
       "    <tr>\n",
       "      <th>std</th>\n",
       "      <td>7.912215e+05</td>\n",
       "      <td>17117.847538</td>\n",
       "      <td>0.0</td>\n",
       "    </tr>\n",
       "    <tr>\n",
       "      <th>min</th>\n",
       "      <td>1.655000e+03</td>\n",
       "      <td>1.000000</td>\n",
       "      <td>1.0</td>\n",
       "    </tr>\n",
       "    <tr>\n",
       "      <th>25%</th>\n",
       "      <td>2.648085e+05</td>\n",
       "      <td>1.000000</td>\n",
       "      <td>1.0</td>\n",
       "    </tr>\n",
       "    <tr>\n",
       "      <th>50%</th>\n",
       "      <td>4.367595e+05</td>\n",
       "      <td>2.000000</td>\n",
       "      <td>1.0</td>\n",
       "    </tr>\n",
       "    <tr>\n",
       "      <th>75%</th>\n",
       "      <td>7.999678e+05</td>\n",
       "      <td>11.500000</td>\n",
       "      <td>1.0</td>\n",
       "    </tr>\n",
       "    <tr>\n",
       "      <th>max</th>\n",
       "      <td>3.321162e+06</td>\n",
       "      <td>137298.000000</td>\n",
       "      <td>1.0</td>\n",
       "    </tr>\n",
       "  </tbody>\n",
       "</table>\n",
       "</div>"
      ],
      "text/plain": [
       "            wl_user  watchlist_count    bot\n",
       "count  1.040000e+02       104.000000  104.0\n",
       "mean   7.320282e+05      2807.865385    1.0\n",
       "std    7.912215e+05     17117.847538    0.0\n",
       "min    1.655000e+03         1.000000    1.0\n",
       "25%    2.648085e+05         1.000000    1.0\n",
       "50%    4.367595e+05         2.000000    1.0\n",
       "75%    7.999678e+05        11.500000    1.0\n",
       "max    3.321162e+06    137298.000000    1.0"
      ]
     },
     "execution_count": 28,
     "metadata": {},
     "output_type": "execute_result"
    }
   ],
   "source": [
    "df_watchlist_count_dewiki[df_watchlist_count_dewiki['bot']==1].describe()"
   ]
  },
  {
   "cell_type": "code",
   "execution_count": 29,
   "metadata": {},
   "outputs": [
    {
     "data": {
      "text/html": [
       "<div>\n",
       "<style scoped>\n",
       "    .dataframe tbody tr th:only-of-type {\n",
       "        vertical-align: middle;\n",
       "    }\n",
       "\n",
       "    .dataframe tbody tr th {\n",
       "        vertical-align: top;\n",
       "    }\n",
       "\n",
       "    .dataframe thead th {\n",
       "        text-align: right;\n",
       "    }\n",
       "</style>\n",
       "<table border=\"1\" class=\"dataframe\">\n",
       "  <thead>\n",
       "    <tr style=\"text-align: right;\">\n",
       "      <th></th>\n",
       "      <th>wl_user</th>\n",
       "      <th>watchlist_count</th>\n",
       "      <th>bot</th>\n",
       "    </tr>\n",
       "  </thead>\n",
       "  <tbody>\n",
       "    <tr>\n",
       "      <th>count</th>\n",
       "      <td>1.816139e+06</td>\n",
       "      <td>1.816139e+06</td>\n",
       "      <td>1816139.0</td>\n",
       "    </tr>\n",
       "    <tr>\n",
       "      <th>mean</th>\n",
       "      <td>2.215719e+06</td>\n",
       "      <td>1.201797e+01</td>\n",
       "      <td>0.0</td>\n",
       "    </tr>\n",
       "    <tr>\n",
       "      <th>std</th>\n",
       "      <td>9.514302e+05</td>\n",
       "      <td>4.528880e+02</td>\n",
       "      <td>0.0</td>\n",
       "    </tr>\n",
       "    <tr>\n",
       "      <th>min</th>\n",
       "      <td>0.000000e+00</td>\n",
       "      <td>1.000000e+00</td>\n",
       "      <td>0.0</td>\n",
       "    </tr>\n",
       "    <tr>\n",
       "      <th>25%</th>\n",
       "      <td>1.811372e+06</td>\n",
       "      <td>1.000000e+00</td>\n",
       "      <td>0.0</td>\n",
       "    </tr>\n",
       "    <tr>\n",
       "      <th>50%</th>\n",
       "      <td>2.493325e+06</td>\n",
       "      <td>1.000000e+00</td>\n",
       "      <td>0.0</td>\n",
       "    </tr>\n",
       "    <tr>\n",
       "      <th>75%</th>\n",
       "      <td>2.951908e+06</td>\n",
       "      <td>1.000000e+00</td>\n",
       "      <td>0.0</td>\n",
       "    </tr>\n",
       "    <tr>\n",
       "      <th>max</th>\n",
       "      <td>3.415785e+06</td>\n",
       "      <td>2.912510e+05</td>\n",
       "      <td>0.0</td>\n",
       "    </tr>\n",
       "  </tbody>\n",
       "</table>\n",
       "</div>"
      ],
      "text/plain": [
       "            wl_user  watchlist_count        bot\n",
       "count  1.816139e+06     1.816139e+06  1816139.0\n",
       "mean   2.215719e+06     1.201797e+01        0.0\n",
       "std    9.514302e+05     4.528880e+02        0.0\n",
       "min    0.000000e+00     1.000000e+00        0.0\n",
       "25%    1.811372e+06     1.000000e+00        0.0\n",
       "50%    2.493325e+06     1.000000e+00        0.0\n",
       "75%    2.951908e+06     1.000000e+00        0.0\n",
       "max    3.415785e+06     2.912510e+05        0.0"
      ]
     },
     "execution_count": 29,
     "metadata": {},
     "output_type": "execute_result"
    }
   ],
   "source": [
    "df_watchlist_count_dewiki[df_watchlist_count_dewiki['bot']==0].describe()"
   ]
  },
  {
   "cell_type": "code",
   "execution_count": 30,
   "metadata": {},
   "outputs": [
    {
     "data": {
      "image/png": "[encoded data removed]",
      "text/plain": [
       "<Figure size 1296x432 with 1 Axes>"
      ]
     },
     "metadata": {},
     "output_type": "display_data"
    }
   ],
   "source": [
    "plt.figure(figsize=(18, 6))\n",
    "plt.xlim(20000,300000)\n",
    "plt.hist(df_watchlist_count_dewiki[(df_watchlist_count_dewiki['bot'] == 0)&(df_watchlist_count_dewiki['watchlist_count']>= 20000)]['watchlist_count'], bins=50, histtype='bar', label='bot=0',alpha=0.5)\n",
    "plt.hist(df_watchlist_count_dewiki[(df_watchlist_count_dewiki['bot'] == 1)&(df_watchlist_count_dewiki['watchlist_count']>= 20000)]['watchlist_count'], bins=50, histtype='bar', label='bot=1',alpha=0.5)\n",
    "plt.title('Distribution of Users With Watchlist > 20,000',fontweight=\"bold\",fontsize = 16)\n",
    "plt.ylabel('# of Users',fontsize = 16)\n",
    "plt.xlabel('Watchlist Count',fontsize = 16)\n",
    "plt.savefig(\"distribution_dewiki_20000_1.png\")\n",
    "plt.legend()\n",
    "plt.show()"
   ]
  },
  {
   "cell_type": "code",
   "execution_count": null,
   "metadata": {},
   "outputs": [],
   "source": []
  }
 ],
 "metadata": {
  "kernelspec": {
   "display_name": "Python 3",
   "language": "python",
   "name": "python3"
  },
  "language_info": {
   "codemirror_mode": {
    "name": "ipython",
    "version": 3
   },
   "file_extension": ".py",
   "mimetype": "text/x-python",
   "name": "python",
   "nbconvert_exporter": "python",
   "pygments_lexer": "ipython3",
   "version": "3.5.3"
  }
 },
 "nbformat": 4,
 "nbformat_minor": 2
}
